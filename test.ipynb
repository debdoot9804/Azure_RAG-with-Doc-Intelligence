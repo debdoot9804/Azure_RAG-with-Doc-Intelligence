{
 "cells": [
  {
   "cell_type": "code",
   "execution_count": 1,
   "id": "99564d8f",
   "metadata": {},
   "outputs": [
    {
     "data": {
      "text/plain": [
       "True"
      ]
     },
     "execution_count": 1,
     "metadata": {},
     "output_type": "execute_result"
    }
   ],
   "source": [
    "import os\n",
    "from dotenv import load_dotenv\n",
    "load_dotenv(dotenv_path=\"config/settings.env\")\n",
    "\n"
   ]
  },
  {
   "cell_type": "markdown",
   "id": "f9183fde",
   "metadata": {},
   "source": [
    "## TEST BLOB UPLOAD"
   ]
  },
  {
   "cell_type": "code",
   "execution_count": null,
   "id": "f4088ee2",
   "metadata": {},
   "outputs": [],
   "source": [
    "from ingestion.blob_upload import upload_to_blob"
   ]
  },
  {
   "cell_type": "code",
   "execution_count": null,
   "id": "b3ddae0d",
   "metadata": {},
   "outputs": [],
   "source": [
    "blob_url=upload_to_blob(\"data/indigo_invoice.pdf\",\"docs\",\"sample.pdf\")"
   ]
  },
  {
   "cell_type": "code",
   "execution_count": null,
   "id": "cf9c2921",
   "metadata": {},
   "outputs": [],
   "source": [
    "blob_url"
   ]
  },
  {
   "cell_type": "markdown",
   "id": "7072e99f",
   "metadata": {},
   "source": [
    "## TEST DOCUMENT INTEL"
   ]
  },
  {
   "cell_type": "code",
   "execution_count": null,
   "id": "79ec83f7",
   "metadata": {},
   "outputs": [],
   "source": [
    "from ingestion.parse import parse_document"
   ]
  },
  {
   "cell_type": "code",
   "execution_count": null,
   "id": "a3f2e487",
   "metadata": {},
   "outputs": [],
   "source": [
    "text=parse_document(blob_url)"
   ]
  },
  {
   "cell_type": "code",
   "execution_count": null,
   "id": "ef55a5f8",
   "metadata": {},
   "outputs": [],
   "source": [
    "text"
   ]
  },
  {
   "cell_type": "markdown",
   "id": "fe1346ab",
   "metadata": {},
   "source": [
    "## TEST CHUNKING"
   ]
  },
  {
   "cell_type": "code",
   "execution_count": null,
   "id": "e5dc35d3",
   "metadata": {},
   "outputs": [],
   "source": [
    "from ingestion.chunk import chunk_text"
   ]
  },
  {
   "cell_type": "code",
   "execution_count": null,
   "id": "ecda0004",
   "metadata": {},
   "outputs": [],
   "source": [
    "chunks=chunk_text(text)"
   ]
  },
  {
   "cell_type": "code",
   "execution_count": null,
   "id": "0a29d097",
   "metadata": {},
   "outputs": [],
   "source": [
    "chunks"
   ]
  },
  {
   "cell_type": "markdown",
   "id": "0c1e4d09",
   "metadata": {},
   "source": [
    "## TEST Embedding "
   ]
  },
  {
   "cell_type": "code",
   "execution_count": null,
   "id": "04f117d3",
   "metadata": {},
   "outputs": [],
   "source": [
    "from backend.embed import generate_chunk_embeddings"
   ]
  },
  {
   "cell_type": "code",
   "execution_count": null,
   "id": "aeed8083",
   "metadata": {},
   "outputs": [],
   "source": [
    "from backend.embed_model import AzureEmbedder\n",
    "from openai import AzureOpenAI"
   ]
  },
  {
   "cell_type": "code",
   "execution_count": null,
   "id": "74c1c532",
   "metadata": {},
   "outputs": [],
   "source": [
    "em=AzureEmbedder()\n",
    "em.embed_query(\"How are you\")"
   ]
  },
  {
   "cell_type": "code",
   "execution_count": null,
   "id": "ba449ed6",
   "metadata": {},
   "outputs": [],
   "source": [
    "from openai import AzureOpenAI\n",
    "import os\n",
    "\n",
    "client = AzureOpenAI(\n",
    "    api_key=os.getenv(\"AZURE_OPENAI_KEY\"),\n",
    "    api_version=os.getenv(\"AZURE_OPENAI_EMBEDDING_VERSION\"),\n",
    "    azure_endpoint=os.getenv(\"AZURE_OPENAI_ENDPOINT\")\n",
    ")\n",
    "\n",
    "response = client.embeddings.create(\n",
    "    input=\"How are you\",\n",
    "    model=os.getenv(\"AZURE_OPENAI_EMBEDDING_DEPLOYMENT\")\n",
    ")\n",
    "\n",
    "print(response.data[0].embedding)\n"
   ]
  },
  {
   "cell_type": "code",
   "execution_count": null,
   "id": "b1be4f19",
   "metadata": {},
   "outputs": [],
   "source": [
    "from backend.embed import create_embeddings_index"
   ]
  },
  {
   "cell_type": "code",
   "execution_count": 2,
   "id": "08cf97a3",
   "metadata": {},
   "outputs": [
    {
     "name": "stderr",
     "output_type": "stream",
     "text": [
      "[2025-07-06 18:51:44,402] INFO - Starting embedding + indexing pipeline...\n",
      "[2025-07-06 18:51:47,098] INFO - Generating embeddings for all text chunks...\n",
      "[2025-07-06 18:51:51,388] INFO - Generated embeddings for 3 chunks.\n",
      "[2025-07-06 18:51:51,396] INFO - Uploading 3 documents to Azure AI Search index 'my-vector-index'...\n",
      "[2025-07-06 18:51:53,441] INFO - Documents uploaded successfully.\n",
      "[2025-07-06 18:51:53,441] INFO - Embedding pipeline completed successfully.\n"
     ]
    }
   ],
   "source": [
    "from backend.embed import create_embeddings_index\n",
    "\n",
    "chunks = [\n",
    "    \"Azure is a cloud computing service.\",\n",
    "    \"OpenAI provides generative AI models like GPT-4.\",\n",
    "    \"You can store and search vectors in Azure AI Search.\"\n",
    "]\n",
    "\n",
    "create_embeddings_index(chunks)\n"
   ]
  },
  {
   "cell_type": "code",
   "execution_count": null,
   "id": "b75e9b07",
   "metadata": {},
   "outputs": [],
   "source": [
    "create_embeddings_index(chunks)"
   ]
  },
  {
   "cell_type": "code",
   "execution_count": null,
   "id": "ac4991e7",
   "metadata": {},
   "outputs": [],
   "source": [
    "from langchain_openai import AzureChatOpenAI\n",
    "import os\n",
    "from dotenv import load_dotenv\n",
    "\n",
    "load_dotenv()  # Load environment variables\n",
    "\n",
    "llm = AzureChatOpenAI(\n",
    "    api_key=os.getenv(\"AZURE_OPENAI_KEY\"),\n",
    "    azure_endpoint=os.getenv(\"AZURE_OPENAI_ENDPOINT\"),\n",
    "    deployment_name=os.getenv(\"AZURE_OPENAI_DEPLOYMENT\"),  # Should be your deployed name for gpt-4o-mini\n",
    "    api_version=os.getenv(\"AZURE_OPENAI_API_VERSION\"),      # e.g., \"2024-02-15-preview\"\n",
    ")\n",
    "\n",
    "response = llm.invoke(\"I keep getting this error while creating index in azure ai sezrch:\")\n",
    "print(response)\n"
   ]
  },
  {
   "cell_type": "code",
   "execution_count": null,
   "id": "20c6e4f1",
   "metadata": {},
   "outputs": [],
   "source": []
  }
 ],
 "metadata": {
  "kernelspec": {
   "display_name": ".venv",
   "language": "python",
   "name": "python3"
  },
  "language_info": {
   "codemirror_mode": {
    "name": "ipython",
    "version": 3
   },
   "file_extension": ".py",
   "mimetype": "text/x-python",
   "name": "python",
   "nbconvert_exporter": "python",
   "pygments_lexer": "ipython3",
   "version": "3.12.4"
  }
 },
 "nbformat": 4,
 "nbformat_minor": 5
}
