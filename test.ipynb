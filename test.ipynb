{
 "cells": [
  {
   "cell_type": "code",
   "execution_count": 1,
   "id": "99564d8f",
   "metadata": {},
   "outputs": [
    {
     "data": {
      "text/plain": [
       "True"
      ]
     },
     "execution_count": 1,
     "metadata": {},
     "output_type": "execute_result"
    }
   ],
   "source": [
    "import os\n",
    "from dotenv import load_dotenv\n",
    "load_dotenv(dotenv_path=\"config/settings.env\")\n",
    "\n"
   ]
  },
  {
   "cell_type": "markdown",
   "id": "f9183fde",
   "metadata": {},
   "source": [
    "## TEST BLOB UPLOAD"
   ]
  },
  {
   "cell_type": "code",
   "execution_count": 2,
   "id": "f4088ee2",
   "metadata": {},
   "outputs": [],
   "source": [
    "from ingestion.blob_upload import upload_to_blob"
   ]
  },
  {
   "cell_type": "code",
   "execution_count": 3,
   "id": "b3ddae0d",
   "metadata": {},
   "outputs": [
    {
     "name": "stderr",
     "output_type": "stream",
     "text": [
      "[2025-07-09 00:17:17,558] INFO - Inputs: file_path=data/Job Offer-Gen AI Developer Specialist (1).pdf, container_name=docs, blob_name=offer.pdf\n",
      "[2025-07-09 00:17:17,575] INFO - Connection string: Set\n",
      "[2025-07-09 00:17:17,580] INFO - Blob service account name: myblob111\n",
      "[2025-07-09 00:17:17,714] INFO - Blob client URL: https://myblob111.blob.core.windows.net/docs/offer.pdf\n",
      "[2025-07-09 00:17:21,432] INFO - Uploaded offer.pdf and generated SAS URL: https://myblob111.blob.core.windows.net/docs/offer.pdf?se=2025-07-08T19%3A17%3A21Z&sp=r&sv=2025-05-05&sr=b&sig=hB/RydZMffTsoLAj3E9lm%2BiVyuuTg7920PR0icKgYOY%3D\n"
     ]
    }
   ],
   "source": [
    "blob_url=upload_to_blob(\"data/Job Offer-Gen AI Developer Specialist (1).pdf\",\"docs\",\"offer.pdf\")"
   ]
  },
  {
   "cell_type": "code",
   "execution_count": 4,
   "id": "cf9c2921",
   "metadata": {},
   "outputs": [
    {
     "data": {
      "text/plain": [
       "'https://myblob111.blob.core.windows.net/docs/offer.pdf?se=2025-07-08T19%3A17%3A21Z&sp=r&sv=2025-05-05&sr=b&sig=hB/RydZMffTsoLAj3E9lm%2BiVyuuTg7920PR0icKgYOY%3D'"
      ]
     },
     "execution_count": 4,
     "metadata": {},
     "output_type": "execute_result"
    }
   ],
   "source": [
    "blob_url"
   ]
  },
  {
   "cell_type": "markdown",
   "id": "7072e99f",
   "metadata": {},
   "source": [
    "## TEST DOCUMENT INTEL"
   ]
  },
  {
   "cell_type": "code",
   "execution_count": 16,
   "id": "79ec83f7",
   "metadata": {},
   "outputs": [],
   "source": [
    "from ingestion.parse import parse_document"
   ]
  },
  {
   "cell_type": "code",
   "execution_count": 17,
   "id": "a3f2e487",
   "metadata": {},
   "outputs": [
    {
     "name": "stderr",
     "output_type": "stream",
     "text": [
      "[2025-07-08 23:33:13,543] INFO - Text extraction complete\n"
     ]
    }
   ],
   "source": [
    "text=parse_document(blob_url)"
   ]
  },
  {
   "cell_type": "code",
   "execution_count": 18,
   "id": "ef55a5f8",
   "metadata": {},
   "outputs": [
    {
     "data": {
      "text/plain": [
       "'HEXAWARE\\n26-Apr-2025\\nDebdoot Sen\\nKolkata\\nDear Debdoot,\\nThis is with reference to the discussions you had with us in the last few days based on\\nwhich we are now pleased to offer you a position with us as an employee at our Pune office.\\nYou will be designated as Sr. Software Engineer at G4.\\nOn joining, you will be called upon to sign an Appointment Letter specifying the terms\\nand conditions of employment as applicable from time to time. The Appointment Letter will\\ncome into effect not later than 26-Apr-2025. The compensation would be as per the Annexure\\ngiven along with this Letter of Intent. Your compensation shall be reviewed annually.\\nYour appointment is transferable and the Company at its discretion may transfer you to\\nany other department or to any place in India or outside India and as such you may, at any time,\\nbe transferred to any of the offices of the Company, its associates, organizations with whom the\\ncompany has transactions, whether the office, subsidiary, associate or organization is in\\nexistence today or is to be set-up hereafter. While every attempt will be made to give you\\nreasonable advance notice of such transfer, however, in case of emergency such transfers may be\\nmade effective immediately.\\nDuring your employment, for the initial 60 days from your date of joining (26-Apr-2025)\\nthe company, your work location would be Pune and Hinjewadi IT - Unit 3. Post this, the\\nCompany may at its discretion require you to Work From Home, subject to the Work From\\nHome Policy. Your acceptance of this offer implies that you are also well equipped to work from\\nyour place of residence as and when and for as long as required. This includes a good, secured\\ninternet connection, comfortable workspace, required gadgets like headsets, webcams etc.\\nYou will be on permanent rolls of the company from the day of joining and consequently,\\na stipulated notice period of three months or salary in lieu thereof, will be applicable to you from\\nthe day of joining. Salary for purpose of this clause means Basic Salary. However, the decision\\nto release you earlier than three months would be solely at the discretion of the management. Not\\nwith standing anything contrary contained herein the notice period stated in this section is subject\\nto any other agreement / understanding or trainee bonds that the employee has entered into with\\nthe company whether in past, present or future, AND in the presence of such agreement /\\nunderstanding or trainee bonds, the notice period stated in this section shall apply on completion\\nof such other term / period / duration as agreed under any such documents / agreements.\\nThe remuneration earned by the employee shall be subjected to applicable Indian income\\ntax laws\". \\'The Company shall deduct and consequently deposit employees\\' provident fund\\ncontributions in the manner as set out under the Employees\\' Provident Funds & Miscellaneous\\nHEXAWARE\\nProvisions Act 1952 (EPF Act), as amended from time to time. Further, the employee shall be\\nentitled to withdraw the accumulated contributions standing to his/her credit at the time of\\ncessation of his/her employment, as per the manner set out under the EPF Act read with scheme\\nframed thereunder.\\'\\nPlease indicate your acceptance of this offer by 02-May-2025. This offer is further\\nsubject to your completing successfully the background verification stipulated by Hexaware\\nTechnologies Limited provided that you submit all the requisite documents requested by\\nHexaware Technologies Limited one (1) week prior to your joining date.\\nAs a token of your acceptance, that you have read and understood this Letter of Intent\\nand Annexure, please sign the duplicate copy of this letter and confirm the date on which you\\ncan begin your employment with us.\\nTruly yours,\\nFor Hexaware Technologies Limited,\\nRaud trends\\nRamesh Sreedhar\\nAssociate Vice President- Recruitment\\nI accept the above offer of employment\\nDebdoot Sen\\nNAME: Debdoot Sen\\nEMP NO:\\nDESIGN: Sr. Software Engineer\\nHEXAWARE\\nANNEXURE I\\nDATE: 26-Apr-2025\\nDOJ: 26-Apr-2025\\nGRADE: G4\\nw.e.f. 26-Apr-2025\\nMonthly\\nAnnual\\nFixed components\\nBasic\\n16000\\n192000\\nHRA\\n8000\\n96000\\nFlexible components 1\\n18572\\n222860\\nStatutory Bonus\\n2000\\n24000\\nTotal - Fixed Components\\n44572\\n534860\\nVariable components :\\nVariable amount on Individual Performance2\\n30000\\nTotal - Variable Components - at maximum\\n30000\\nOther Annual Benefits\\nMedical Insurance premium contribution4\\n2500\\nRetiral benefits\\nGratuity premium contribution3\\n9600\\nProvident Fund @12% of Basic\\n1920\\n23040\\nTotal\\n32640\\nTotal Cost To Company\\n600000\\nNotes:\\n1. You will be able to split your entire flexible component amount into various elements in line\\nwith the Company guidelines.\\n2. Individual variable payment, if applicable, will be paid as per Hexaware Variable Payout\\npolicy.\\n3. You will be covered under Group Hospitalization scheme of the Co. for Medical insurance.\\n4. You will be eligible for benefits under the Gratuity Scheme of Hexaware Technologies\\nLimited, subject to a minimum of 5 years of continuous service with Hexaware.\\n* Compensation structure is subject to various labour legislations You will be notified separately\\nas and when such changes happen in the legislations governing the compensation.\\nHEXAWARE\\n26-Apr-2025\\nTo,\\nDebdoot Sen\\nKolkata.\\nDear Debdoot ,\\nSub\\n: Reimbursement of Relocation.\\nPosition\\n: Sr. Software Engineer- G4\\nWith reference to the Offer letter dated 26-Apr-2025, you will be eligible for\\nReimbursement of Relocation on joining the organization.\\nYou are requested to produce relevant documents* supporting the reimbursements along\\nwith the copy of this letter duly accepted and signed to HR on joining the organization and the\\namount will be processed along with your first month\\'s payroll. We are offering this as a gesture\\nthat you will be associated with Hexaware for a long/fruitful career. However, in the event of\\nyou resigning (i.e. your date of resignation) from the organization or being asked to leave the\\norganization due to performance issues within 12 months of your joining, this amount will be\\nrecovered from you on or before your last working day.\\nAll the queries in this regard will be addressed by respective HR- Business Partner.\\nYours faithfully,\\nFor HEXAWARE TECHNOLOGIES LTD.,\\nRaud trends\\nRamesh Sreedhar\\nAssociate Vice President- Recruitment\\nAccepted:\\nDate\\n:\\n*Document supporting\\n*Amount subject to appropriate tax\\nHEXAWARE\\nHexaware Employee Benefits\\nOverview\\nWe are interested in, and want to support, the\\nHealth and Wellness Benefits\\nprofessional and personal you.\\nWe offer a wide array of programs to help you expand\\nyour skills and supercharge your career.\\nHexaware is all about open doors, open minds, and\\nopen opportunities. We ensure a flexible work\\nenvironment that respects your work-life balance and\\nyour growth.\\nLet\\'s explore a wide array of benefits provided to you\\nin addition to the compensation :\\n. When it comes to employee satisfaction, health\\nbenefits play a crucial role\\n. Wellness programs are designed to support\\nemployees in making healthier choices and\\nadopting positive habits.\\n. Plethora of engaging activities and initiatives like\\nEAP, Wellness Webinars, Wellness awareness\\ncommunications are planned to promote\\nphysical, mental, and emotional well-being\\nRewards and\\nRecognition\\n· We always encourages &\\nrewards the talents for\\ntheir exemplary\\ncontribution and credit\\nrewards through InAWE\\nPoints (Digital RNR\\nPlatform)\\nEmployee Centric\\nAmenities\\n· Hybrid working (3 days\\nwork from office)\\n· Free Gym Facility\\n· Recreational program at\\noffice (Fun at work)\\n· Medical services in\\nselected offices\\nSkills Upgradation\\n· Online learning through\\nUdemy\\n· Hackathons\\n· Innovation Lab\\n· Women Leadership\\nProgram\\nFlexi Basket\\nFlexi basket allows employees to structure their\\nbenefits to suit their individual needs\\nProvides employees the opportunity to choose from a\\nrange of components depending on their requirement\\nComponents that can be used to structure the Flexi\\nbasket includes:\\na. Motor Car Reimbursement (Self Owned)\\nb. Food Card (Sodexo): Rs.13,200/ or Rs.26,400/-pa\\nc. Leave Travel Allowance : Max 1 basic salary\\nd. Telephone Allowance: Rs.12,000/- pa\\ne. NPS (Employee Contribution - max upto Rs.\\n50,000)\\nHexaware\\nPaid Time Off\\n. Work-life balance is a focal point in today\\'s benefits\\nlandscape. Hexaware value providing employees paid time\\noff for vacations, sick leave, and personal days.\\n. Monthly Credit of Earned Leave: 24 days (2 days/Month)\\n. Leave encashment beyond 42 days\\n. Sabbatical Leave Post completion of 3 years\\n. Special Sick leave in case of Critical Illness - 30 days\\n. Paternity Leave - 3 days\\n. Maternity Leave - 26 weeks\\n. Miscarriage Leave - 6 weeks\\n· Adoption Leave - 12 weeks\\n. Surrogacy Leave - 12 weeks\\n. Disturbance Leave - 3 weeks (in case of transfer)\\nHEXAWARE\\nInsurance Benefits\\nGroup Mediclaim Insurance\\nThe purpose of a group mediclaim insurance policy is\\nGroup Term Life Insurance\\nto provide affordable and comprehensive health\\ncoverage to employees. Policy can provide coverage\\nfor all members of the family under a single policy\\nGroup term life insurance refers to a life insurance plan\\nthat aims to offer financial protection to the nominee\\nor the beneficiary in case of the death of the covered\\nindividual during the policy term.\\nBase Sum Insured: INR 3 Lacs (Capped for Parents/In-\\nLaws upto INR 2 Lacs)\\nLife Insurance cover equivalent to one TCTC or 10 Lacs\\nwhichever is higher.\\nVoluntary Top-up cover for 2,3 & 5 lacs (borne by the\\nemployee)\\nHighlights:\\n. Cashless claims in Network Hospitals\\n. Critical illness coverage for employees\\nGroup Personal Accident Insurance\\n. Maternity benefit coverage.\\n. Newborn coverage from Day 1 .\\nGroup personal accident insurance is a type of insurance\\npolicy that provides financial coverage and support to\\nemployees in the event of accidental death, permanent\\ndisability, or dismemberment resulting from an accident\\nInfertility treatment coverage\\n.\\nModern treatment covered.\\nOut-Patient Coverage\\nPersonal accident cover of Rs.10 lacs in case of\\naccidental death.\\nOut-Patient coverage policy is designed to cover for\\nthe outpatient consultation, diagnosis and treatment\\nexpenses\\n. Hexaware tenured based wallet ranging from Rs.10K\\nto Rs.25K\\n. For New joiners there is a waiting period of 3\\nmonths from DOJ\\n. Benefit is extended to Self + Spouse + 2 Childrens\\nupto age of 25 years.\\n+ Top Up available to upgrade to the next wallet\\nbracket.\\n· Unlimited teleconsultation / Sub-limit on\\nDoctor/Medical Specialist Consultations / Sub-limit\\non Prescribed Pharmacy / Sub-limit on Prescribed\\nDiagnostics / Sub-limit on Vision Care / Dental care\\n/ Sub-limit on Adult Vaccinations\\n** As part of our commitment to adapt to evolving business needs and economic circumstances, we reserve the right to\\nmodify our employee benefits at any time with or without prior notice.\\nHexaware'"
      ]
     },
     "execution_count": 18,
     "metadata": {},
     "output_type": "execute_result"
    }
   ],
   "source": [
    "text"
   ]
  },
  {
   "cell_type": "markdown",
   "id": "fe1346ab",
   "metadata": {},
   "source": [
    "## TEST CHUNKING"
   ]
  },
  {
   "cell_type": "code",
   "execution_count": 19,
   "id": "e5dc35d3",
   "metadata": {},
   "outputs": [],
   "source": [
    "from ingestion.chunk import chunk_text"
   ]
  },
  {
   "cell_type": "code",
   "execution_count": 20,
   "id": "ecda0004",
   "metadata": {},
   "outputs": [
    {
     "name": "stderr",
     "output_type": "stream",
     "text": [
      "[2025-07-08 23:33:13,728] INFO - Text chunking complete. 24 chunks created.\n"
     ]
    }
   ],
   "source": [
    "chunks=chunk_text(text)"
   ]
  },
  {
   "cell_type": "code",
   "execution_count": 21,
   "id": "0a29d097",
   "metadata": {},
   "outputs": [
    {
     "data": {
      "text/plain": [
       "['HEXAWARE\\n26-Apr-2025\\nDebdoot Sen\\nKolkata\\nDear Debdoot,\\nThis is with reference to the discussions you had with us in the last few days based on\\nwhich we are now pleased to offer you a position with us as an employee at our Pune office.\\nYou will be designated as Sr. Software Engineer at G4.\\nOn joining, you will be called upon to sign an Appointment Letter specifying the terms\\nand conditions of employment as applicable from time to time. The Appointment Letter will',\n",
       " 'come into effect not later than 26-Apr-2025. The compensation would be as per the Annexure\\ngiven along with this Letter of Intent. Your compensation shall be reviewed annually.\\nYour appointment is transferable and the Company at its discretion may transfer you to\\nany other department or to any place in India or outside India and as such you may, at any time,\\nbe transferred to any of the offices of the Company, its associates, organizations with whom the',\n",
       " 'company has transactions, whether the office, subsidiary, associate or organization is in\\nexistence today or is to be set-up hereafter. While every attempt will be made to give you\\nreasonable advance notice of such transfer, however, in case of emergency such transfers may be\\nmade effective immediately.\\nDuring your employment, for the initial 60 days from your date of joining (26-Apr-2025)\\nthe company, your work location would be Pune and Hinjewadi IT - Unit 3. Post this, the',\n",
       " 'Company may at its discretion require you to Work From Home, subject to the Work From\\nHome Policy. Your acceptance of this offer implies that you are also well equipped to work from\\nyour place of residence as and when and for as long as required. This includes a good, secured\\ninternet connection, comfortable workspace, required gadgets like headsets, webcams etc.\\nYou will be on permanent rolls of the company from the day of joining and consequently,',\n",
       " 'a stipulated notice period of three months or salary in lieu thereof, will be applicable to you from\\nthe day of joining. Salary for purpose of this clause means Basic Salary. However, the decision\\nto release you earlier than three months would be solely at the discretion of the management. Not\\nwith standing anything contrary contained herein the notice period stated in this section is subject\\nto any other agreement / understanding or trainee bonds that the employee has entered into with',\n",
       " 'the company whether in past, present or future, AND in the presence of such agreement /\\nunderstanding or trainee bonds, the notice period stated in this section shall apply on completion\\nof such other term / period / duration as agreed under any such documents / agreements.\\nThe remuneration earned by the employee shall be subjected to applicable Indian income\\ntax laws\". \\'The Company shall deduct and consequently deposit employees\\' provident fund',\n",
       " \"contributions in the manner as set out under the Employees' Provident Funds & Miscellaneous\\nHEXAWARE\\nProvisions Act 1952 (EPF Act), as amended from time to time. Further, the employee shall be\\nentitled to withdraw the accumulated contributions standing to his/her credit at the time of\\ncessation of his/her employment, as per the manner set out under the EPF Act read with scheme\\nframed thereunder.'\\nPlease indicate your acceptance of this offer by 02-May-2025. This offer is further\",\n",
       " 'subject to your completing successfully the background verification stipulated by Hexaware\\nTechnologies Limited provided that you submit all the requisite documents requested by\\nHexaware Technologies Limited one (1) week prior to your joining date.\\nAs a token of your acceptance, that you have read and understood this Letter of Intent\\nand Annexure, please sign the duplicate copy of this letter and confirm the date on which you\\ncan begin your employment with us.\\nTruly yours,',\n",
       " 'can begin your employment with us.\\nTruly yours,\\nFor Hexaware Technologies Limited,\\nRaud trends\\nRamesh Sreedhar\\nAssociate Vice President- Recruitment\\nI accept the above offer of employment\\nDebdoot Sen\\nNAME: Debdoot Sen\\nEMP NO:\\nDESIGN: Sr. Software Engineer\\nHEXAWARE\\nANNEXURE I\\nDATE: 26-Apr-2025\\nDOJ: 26-Apr-2025\\nGRADE: G4\\nw.e.f. 26-Apr-2025\\nMonthly\\nAnnual\\nFixed components\\nBasic\\n16000\\n192000\\nHRA\\n8000\\n96000\\nFlexible components 1\\n18572\\n222860\\nStatutory Bonus\\n2000\\n24000\\nTotal - Fixed Components\\n44572',\n",
       " '2000\\n24000\\nTotal - Fixed Components\\n44572\\n534860\\nVariable components :\\nVariable amount on Individual Performance2\\n30000\\nTotal - Variable Components - at maximum\\n30000\\nOther Annual Benefits\\nMedical Insurance premium contribution4\\n2500\\nRetiral benefits\\nGratuity premium contribution3\\n9600\\nProvident Fund @12% of Basic\\n1920\\n23040\\nTotal\\n32640\\nTotal Cost To Company\\n600000\\nNotes:\\n1. You will be able to split your entire flexible component amount into various elements in line',\n",
       " 'with the Company guidelines.\\n2. Individual variable payment, if applicable, will be paid as per Hexaware Variable Payout\\npolicy.\\n3. You will be covered under Group Hospitalization scheme of the Co. for Medical insurance.\\n4. You will be eligible for benefits under the Gratuity Scheme of Hexaware Technologies\\nLimited, subject to a minimum of 5 years of continuous service with Hexaware.\\n* Compensation structure is subject to various labour legislations You will be notified separately',\n",
       " 'as and when such changes happen in the legislations governing the compensation.\\nHEXAWARE\\n26-Apr-2025\\nTo,\\nDebdoot Sen\\nKolkata.\\nDear Debdoot ,\\nSub\\n: Reimbursement of Relocation.\\nPosition\\n: Sr. Software Engineer- G4\\nWith reference to the Offer letter dated 26-Apr-2025, you will be eligible for\\nReimbursement of Relocation on joining the organization.\\nYou are requested to produce relevant documents* supporting the reimbursements along',\n",
       " \"with the copy of this letter duly accepted and signed to HR on joining the organization and the\\namount will be processed along with your first month's payroll. We are offering this as a gesture\\nthat you will be associated with Hexaware for a long/fruitful career. However, in the event of\\nyou resigning (i.e. your date of resignation) from the organization or being asked to leave the\\norganization due to performance issues within 12 months of your joining, this amount will be\",\n",
       " 'recovered from you on or before your last working day.\\nAll the queries in this regard will be addressed by respective HR- Business Partner.\\nYours faithfully,\\nFor HEXAWARE TECHNOLOGIES LTD.,\\nRaud trends\\nRamesh Sreedhar\\nAssociate Vice President- Recruitment\\nAccepted:\\nDate\\n:\\n*Document supporting\\n*Amount subject to appropriate tax\\nHEXAWARE\\nHexaware Employee Benefits\\nOverview\\nWe are interested in, and want to support, the\\nHealth and Wellness Benefits\\nprofessional and personal you.',\n",
       " \"professional and personal you.\\nWe offer a wide array of programs to help you expand\\nyour skills and supercharge your career.\\nHexaware is all about open doors, open minds, and\\nopen opportunities. We ensure a flexible work\\nenvironment that respects your work-life balance and\\nyour growth.\\nLet's explore a wide array of benefits provided to you\\nin addition to the compensation :\\n. When it comes to employee satisfaction, health\\nbenefits play a crucial role\\n. Wellness programs are designed to support\",\n",
       " '. Wellness programs are designed to support\\nemployees in making healthier choices and\\nadopting positive habits.\\n. Plethora of engaging activities and initiatives like\\nEAP, Wellness Webinars, Wellness awareness\\ncommunications are planned to promote\\nphysical, mental, and emotional well-being\\nRewards and\\nRecognition\\n· We always encourages &\\nrewards the talents for\\ntheir exemplary\\ncontribution and credit\\nrewards through InAWE\\nPoints (Digital RNR\\nPlatform)\\nEmployee Centric\\nAmenities',\n",
       " 'Platform)\\nEmployee Centric\\nAmenities\\n· Hybrid working (3 days\\nwork from office)\\n· Free Gym Facility\\n· Recreational program at\\noffice (Fun at work)\\n· Medical services in\\nselected offices\\nSkills Upgradation\\n· Online learning through\\nUdemy\\n· Hackathons\\n· Innovation Lab\\n· Women Leadership\\nProgram\\nFlexi Basket\\nFlexi basket allows employees to structure their\\nbenefits to suit their individual needs\\nProvides employees the opportunity to choose from a\\nrange of components depending on their requirement',\n",
       " \"Components that can be used to structure the Flexi\\nbasket includes:\\na. Motor Car Reimbursement (Self Owned)\\nb. Food Card (Sodexo): Rs.13,200/ or Rs.26,400/-pa\\nc. Leave Travel Allowance : Max 1 basic salary\\nd. Telephone Allowance: Rs.12,000/- pa\\ne. NPS (Employee Contribution - max upto Rs.\\n50,000)\\nHexaware\\nPaid Time Off\\n. Work-life balance is a focal point in today's benefits\\nlandscape. Hexaware value providing employees paid time\\noff for vacations, sick leave, and personal days.\",\n",
       " 'off for vacations, sick leave, and personal days.\\n. Monthly Credit of Earned Leave: 24 days (2 days/Month)\\n. Leave encashment beyond 42 days\\n. Sabbatical Leave Post completion of 3 years\\n. Special Sick leave in case of Critical Illness - 30 days\\n. Paternity Leave - 3 days\\n. Maternity Leave - 26 weeks\\n. Miscarriage Leave - 6 weeks\\n· Adoption Leave - 12 weeks\\n. Surrogacy Leave - 12 weeks\\n. Disturbance Leave - 3 weeks (in case of transfer)\\nHEXAWARE\\nInsurance Benefits\\nGroup Mediclaim Insurance',\n",
       " 'Insurance Benefits\\nGroup Mediclaim Insurance\\nThe purpose of a group mediclaim insurance policy is\\nGroup Term Life Insurance\\nto provide affordable and comprehensive health\\ncoverage to employees. Policy can provide coverage\\nfor all members of the family under a single policy\\nGroup term life insurance refers to a life insurance plan\\nthat aims to offer financial protection to the nominee\\nor the beneficiary in case of the death of the covered\\nindividual during the policy term.',\n",
       " 'individual during the policy term.\\nBase Sum Insured: INR 3 Lacs (Capped for Parents/In-\\nLaws upto INR 2 Lacs)\\nLife Insurance cover equivalent to one TCTC or 10 Lacs\\nwhichever is higher.\\nVoluntary Top-up cover for 2,3 & 5 lacs (borne by the\\nemployee)\\nHighlights:\\n. Cashless claims in Network Hospitals\\n. Critical illness coverage for employees\\nGroup Personal Accident Insurance\\n. Maternity benefit coverage.\\n. Newborn coverage from Day 1 .\\nGroup personal accident insurance is a type of insurance',\n",
       " 'policy that provides financial coverage and support to\\nemployees in the event of accidental death, permanent\\ndisability, or dismemberment resulting from an accident\\nInfertility treatment coverage\\n.\\nModern treatment covered.\\nOut-Patient Coverage\\nPersonal accident cover of Rs.10 lacs in case of\\naccidental death.\\nOut-Patient coverage policy is designed to cover for\\nthe outpatient consultation, diagnosis and treatment\\nexpenses\\n. Hexaware tenured based wallet ranging from Rs.10K\\nto Rs.25K',\n",
       " 'to Rs.25K\\n. For New joiners there is a waiting period of 3\\nmonths from DOJ\\n. Benefit is extended to Self + Spouse + 2 Childrens\\nupto age of 25 years.\\n+ Top Up available to upgrade to the next wallet\\nbracket.\\n· Unlimited teleconsultation / Sub-limit on\\nDoctor/Medical Specialist Consultations / Sub-limit\\non Prescribed Pharmacy / Sub-limit on Prescribed\\nDiagnostics / Sub-limit on Vision Care / Dental care\\n/ Sub-limit on Adult Vaccinations',\n",
       " '/ Sub-limit on Adult Vaccinations\\n** As part of our commitment to adapt to evolving business needs and economic circumstances, we reserve the right to\\nmodify our employee benefits at any time with or without prior notice.\\nHexaware']"
      ]
     },
     "execution_count": 21,
     "metadata": {},
     "output_type": "execute_result"
    }
   ],
   "source": [
    "chunks"
   ]
  },
  {
   "cell_type": "markdown",
   "id": "0c1e4d09",
   "metadata": {},
   "source": [
    "## TEST Embedding "
   ]
  },
  {
   "cell_type": "code",
   "execution_count": null,
   "id": "04f117d3",
   "metadata": {},
   "outputs": [],
   "source": [
    "from backend.embed import generate_chunk_embeddings"
   ]
  },
  {
   "cell_type": "code",
   "execution_count": null,
   "id": "aeed8083",
   "metadata": {},
   "outputs": [],
   "source": [
    "from backend.embed_model import AzureEmbedder\n",
    "from openai import AzureOpenAI"
   ]
  },
  {
   "cell_type": "code",
   "execution_count": null,
   "id": "74c1c532",
   "metadata": {},
   "outputs": [],
   "source": [
    "em=AzureEmbedder()\n",
    "em.embed_query(\"How are you\")"
   ]
  },
  {
   "cell_type": "code",
   "execution_count": null,
   "id": "ba449ed6",
   "metadata": {},
   "outputs": [],
   "source": [
    "from openai import AzureOpenAI\n",
    "import os\n",
    "\n",
    "client = AzureOpenAI(\n",
    "    api_key=os.getenv(\"AZURE_OPENAI_KEY\"),\n",
    "    api_version=os.getenv(\"AZURE_OPENAI_EMBEDDING_VERSION\"),\n",
    "    azure_endpoint=os.getenv(\"AZURE_OPENAI_ENDPOINT\")\n",
    ")\n",
    "\n",
    "response = client.embeddings.create(\n",
    "    input=\"How are you\",\n",
    "    model=os.getenv(\"AZURE_OPENAI_EMBEDDING_DEPLOYMENT\")\n",
    ")\n",
    "\n",
    "print(response.data[0].embedding)\n"
   ]
  },
  {
   "cell_type": "code",
   "execution_count": null,
   "id": "b1be4f19",
   "metadata": {},
   "outputs": [],
   "source": [
    "from backend.embed import create_embeddings_index"
   ]
  },
  {
   "cell_type": "markdown",
   "id": "dd86074c",
   "metadata": {},
   "source": [
    "## TESTING EMBEDDING + DATA UPSERT TO AI-SEARCH"
   ]
  },
  {
   "cell_type": "code",
   "execution_count": 22,
   "id": "08cf97a3",
   "metadata": {},
   "outputs": [
    {
     "name": "stderr",
     "output_type": "stream",
     "text": [
      "[2025-07-08 23:33:23,534] INFO - Starting embedding + indexing pipeline...\n",
      "[2025-07-08 23:33:24,654] INFO - Generating embeddings for all text chunks...\n",
      "[2025-07-08 23:33:32,106] INFO - Generated embeddings for 24 chunks.\n",
      "[2025-07-08 23:33:32,106] INFO - Uploading 24 documents to Azure AI Search index 'multimodal-index'...\n",
      "[2025-07-08 23:33:34,424] INFO - Documents uploaded successfully.\n",
      "[2025-07-08 23:33:34,431] INFO - Embedding pipeline completed successfully.\n"
     ]
    }
   ],
   "source": [
    "from backend.embed import create_embeddings_index\n",
    "\n",
    "\n",
    "\n",
    "create_embeddings_index(chunks)\n"
   ]
  },
  {
   "cell_type": "markdown",
   "id": "c57da9af",
   "metadata": {},
   "source": [
    "## FINAL RETRIEVAL USING LLM RESPONSE"
   ]
  },
  {
   "cell_type": "code",
   "execution_count": 25,
   "id": "fb2d3b66",
   "metadata": {},
   "outputs": [
    {
     "data": {
      "text/plain": [
       "'Employee Name: Debdoot Sen  \\nDate of Joining: 26-Apr-2025  '"
      ]
     },
     "execution_count": 25,
     "metadata": {},
     "output_type": "execute_result"
    }
   ],
   "source": [
    "from backend.search import search_query\n",
    "search_query(\"What is the employee name and date of joining?\")"
   ]
  },
  {
   "cell_type": "code",
   "execution_count": null,
   "id": "20c6e4f1",
   "metadata": {},
   "outputs": [],
   "source": []
  }
 ],
 "metadata": {
  "kernelspec": {
   "display_name": ".venv",
   "language": "python",
   "name": "python3"
  },
  "language_info": {
   "codemirror_mode": {
    "name": "ipython",
    "version": 3
   },
   "file_extension": ".py",
   "mimetype": "text/x-python",
   "name": "python",
   "nbconvert_exporter": "python",
   "pygments_lexer": "ipython3",
   "version": "3.12.4"
  }
 },
 "nbformat": 4,
 "nbformat_minor": 5
}
